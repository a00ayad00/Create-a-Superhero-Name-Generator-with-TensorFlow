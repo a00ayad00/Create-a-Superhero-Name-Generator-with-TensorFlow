{
  "cells": [
    {
      "cell_type": "markdown",
      "metadata": {
        "id": "21XXWP7Fpt2L"
      },
      "source": [
        "# Superhero (and Supervillain) Name Generator\n",
        "\n",
        "---\n",
        "\n",
        "[Superhero Names Dataset](https://github.com/am1tyadav/superhero)"
      ]
    },
    {
      "cell_type": "markdown",
      "metadata": {
        "id": "H6P0NU5Cpt2R"
      },
      "source": [
        "## Task 2\n",
        "\n",
        "1. Import the data\n",
        "2. Create a tokenizer\n",
        "3. Char to index and Index to char dictionaries"
      ]
    },
    {
      "cell_type": "code",
      "execution_count": 1,
      "metadata": {
        "colab": {
          "base_uri": "https://localhost:8080/"
        },
        "id": "srULhalZpt2M",
        "outputId": "ffa71a6d-d890-4c1c-d7a8-eab047b4810a"
      },
      "outputs": [
        {
          "output_type": "stream",
          "name": "stdout",
          "text": [
            "Cloning into 'superhero'...\n",
            "remote: Enumerating objects: 8, done.\u001b[K\n",
            "remote: Counting objects: 100% (8/8), done.\u001b[K\n",
            "remote: Compressing objects: 100% (7/7), done.\u001b[K\n",
            "remote: Total 8 (delta 0), reused 4 (delta 0), pack-reused 0\u001b[K\n",
            "Receiving objects: 100% (8/8), 47.08 KiB | 7.85 MiB/s, done.\n"
          ]
        }
      ],
      "source": [
        "!git clone https://github.com/am1tyadav/superhero"
      ]
    },
    {
      "cell_type": "code",
      "execution_count": 2,
      "metadata": {
        "colab": {
          "base_uri": "https://localhost:8080/"
        },
        "id": "uq4CLmsLpt2P",
        "outputId": "13a80a17-7f41-443a-b8e6-e834d5631948"
      },
      "outputs": [
        {
          "output_type": "stream",
          "name": "stdout",
          "text": [
            "jumpa\t\n",
            "doctor fate\t\n",
            "starlight\t\n",
            "isildur\t\n",
            "lasher\t\n",
            "varvara\t\n",
            "the target\t\n",
            "axel\t\n",
            "battra\t\n",
            "changeling\t\n",
            "pyrrh\n"
          ]
        }
      ],
      "source": [
        "with open('/content/superhero/superheroes.txt', 'r') as f:\n",
        "    data = f.read()\n",
        "\n",
        "print(data[:100])"
      ]
    },
    {
      "cell_type": "code",
      "execution_count": 3,
      "metadata": {
        "colab": {
          "base_uri": "https://localhost:8080/",
          "height": 0
        },
        "id": "JqhtLuAHpt2R",
        "outputId": "a51fbfe6-03cb-493d-e8e1-460d198d39bb"
      },
      "outputs": [
        {
          "output_type": "execute_result",
          "data": {
            "text/plain": [
              "'jumpa\\t\\ndoctor fate\\t\\nstarlight\\t\\nisildur\\t\\nlasher\\t\\nvarvara\\t\\nthe target\\t\\naxel\\t\\nbattra\\t\\nchangeling\\t\\npyrrh'"
            ],
            "application/vnd.google.colaboratory.intrinsic+json": {
              "type": "string"
            }
          },
          "metadata": {},
          "execution_count": 3
        }
      ],
      "source": [
        "data[:100]"
      ]
    },
    {
      "cell_type": "code",
      "source": [
        "import tensorflow as tf"
      ],
      "metadata": {
        "id": "-tXIcEs7gkk7"
      },
      "execution_count": 4,
      "outputs": []
    },
    {
      "cell_type": "code",
      "execution_count": 5,
      "metadata": {
        "id": "95Lo1Yqzpt2T"
      },
      "outputs": [],
      "source": [
        "tokenizer = tf.keras.preprocessing.text.Tokenizer(\n",
        "    filters='!\"#$%&()*+,-./:;<=>?@[\\\\]^_`{|}~',\n",
        "    split='\\n',\n",
        ")"
      ]
    },
    {
      "cell_type": "code",
      "execution_count": 6,
      "metadata": {
        "id": "qYfC4sj2pt2V"
      },
      "outputs": [],
      "source": [
        "tokenizer.fit_on_texts(data)"
      ]
    },
    {
      "cell_type": "code",
      "execution_count": 7,
      "metadata": {
        "id": "EO4-dPM6pt2X"
      },
      "outputs": [],
      "source": [
        "char_to_index = tokenizer.word_index\n",
        "index_to_char = dict((i, c) for c, i in char_to_index.items())"
      ]
    },
    {
      "cell_type": "code",
      "source": [
        "char_to_index"
      ],
      "metadata": {
        "id": "VfbztSwJiPZg",
        "outputId": "bafe616d-8ab8-42f4-a7fe-3b5712bc0f2b",
        "colab": {
          "base_uri": "https://localhost:8080/"
        }
      },
      "execution_count": 8,
      "outputs": [
        {
          "output_type": "execute_result",
          "data": {
            "text/plain": [
              "{'\\t': 1,\n",
              " 'a': 2,\n",
              " 'e': 3,\n",
              " 'r': 4,\n",
              " 'o': 5,\n",
              " 'n': 6,\n",
              " 'i': 7,\n",
              " ' ': 8,\n",
              " 't': 9,\n",
              " 's': 10,\n",
              " 'l': 11,\n",
              " 'm': 12,\n",
              " 'h': 13,\n",
              " 'd': 14,\n",
              " 'c': 15,\n",
              " 'u': 16,\n",
              " 'g': 17,\n",
              " 'k': 18,\n",
              " 'b': 19,\n",
              " 'p': 20,\n",
              " 'y': 21,\n",
              " 'w': 22,\n",
              " 'f': 23,\n",
              " 'v': 24,\n",
              " 'j': 25,\n",
              " 'z': 26,\n",
              " 'x': 27,\n",
              " 'q': 28}"
            ]
          },
          "metadata": {},
          "execution_count": 8
        }
      ]
    },
    {
      "cell_type": "markdown",
      "metadata": {
        "id": "SMwtIw_Bpt2Z"
      },
      "source": [
        "## Task 3\n",
        "\n",
        "1. Converting between names and sequences"
      ]
    },
    {
      "cell_type": "code",
      "execution_count": 9,
      "metadata": {
        "colab": {
          "base_uri": "https://localhost:8080/"
        },
        "id": "N7iQLIXzpt2a",
        "outputId": "0d7d9519-cbf7-4ad6-efbe-3415a5e6ccdf"
      },
      "outputs": [
        {
          "output_type": "execute_result",
          "data": {
            "text/plain": [
              "['jumpa\\t',\n",
              " 'doctor fate\\t',\n",
              " 'starlight\\t',\n",
              " 'isildur\\t',\n",
              " 'lasher\\t',\n",
              " 'varvara\\t',\n",
              " 'the target\\t',\n",
              " 'axel\\t',\n",
              " 'battra\\t',\n",
              " 'changeling\\t']"
            ]
          },
          "metadata": {},
          "execution_count": 9
        }
      ],
      "source": [
        "names = data.splitlines()\n",
        "names[:10]"
      ]
    },
    {
      "cell_type": "code",
      "source": [
        "tokenizer.texts_to_sequences(names[10])"
      ],
      "metadata": {
        "id": "VBIYHlM1kcrQ",
        "outputId": "14fb3f73-d51a-4223-f1ae-5d68d1f922ee",
        "colab": {
          "base_uri": "https://localhost:8080/"
        }
      },
      "execution_count": 10,
      "outputs": [
        {
          "output_type": "execute_result",
          "data": {
            "text/plain": [
              "[[20], [21], [4], [4], [13], [2], [1]]"
            ]
          },
          "metadata": {},
          "execution_count": 10
        }
      ]
    },
    {
      "cell_type": "code",
      "source": [
        "def name_to_seq(name):\n",
        "    return [tokenizer.texts_to_sequences(c)[0][0] for c in name]"
      ],
      "metadata": {
        "id": "hUoqpo7ElA1L"
      },
      "execution_count": 11,
      "outputs": []
    },
    {
      "cell_type": "code",
      "execution_count": 12,
      "metadata": {
        "colab": {
          "base_uri": "https://localhost:8080/"
        },
        "id": "n_-TTfqipt2c",
        "outputId": "4cccc91f-4c02-4e44-efa3-951814258063"
      },
      "outputs": [
        {
          "output_type": "execute_result",
          "data": {
            "text/plain": [
              "[20, 21, 4, 4, 13, 2, 1]"
            ]
          },
          "metadata": {},
          "execution_count": 12
        }
      ],
      "source": [
        "name_to_seq(names[10])"
      ]
    },
    {
      "cell_type": "code",
      "execution_count": 13,
      "metadata": {
        "id": "P6IsKH1Upt2e"
      },
      "outputs": [],
      "source": [
        "def seq_to_name(seq):\n",
        "    return ''.join([index_to_char[i] for i in seq])"
      ]
    },
    {
      "cell_type": "code",
      "execution_count": 14,
      "metadata": {
        "colab": {
          "base_uri": "https://localhost:8080/",
          "height": 35
        },
        "id": "TuLUiMP3pt2g",
        "outputId": "51aabeef-20fd-49c3-a09c-dc181182c06e"
      },
      "outputs": [
        {
          "output_type": "execute_result",
          "data": {
            "text/plain": [
              "'pyrrha\\t'"
            ],
            "application/vnd.google.colaboratory.intrinsic+json": {
              "type": "string"
            }
          },
          "metadata": {},
          "execution_count": 14
        }
      ],
      "source": [
        "seq_to_name(name_to_seq(names[10]))"
      ]
    },
    {
      "cell_type": "markdown",
      "metadata": {
        "id": "uCbAzsNjpt2m"
      },
      "source": [
        "## Task 4\n",
        "\n",
        "1. Creating sequences\n",
        "2. Padding all sequences"
      ]
    },
    {
      "cell_type": "code",
      "execution_count": 19,
      "metadata": {
        "id": "zstNn-0dpt2m"
      },
      "outputs": [],
      "source": [
        "sequences = []\n",
        "\n",
        "for name in names:\n",
        "    seq = name_to_seq(name)\n",
        "    if len(seq) >= 2:\n",
        "        sequences += [seq[:i] for i in range(2, len(seq) + 1)]"
      ]
    },
    {
      "cell_type": "code",
      "execution_count": 20,
      "metadata": {
        "colab": {
          "base_uri": "https://localhost:8080/"
        },
        "id": "BjRTMysvpt2o",
        "outputId": "7a0e6772-b017-4cab-da3b-d70529b3c77f"
      },
      "outputs": [
        {
          "output_type": "execute_result",
          "data": {
            "text/plain": [
              "[[25, 16],\n",
              " [25, 16, 12],\n",
              " [25, 16, 12, 20],\n",
              " [25, 16, 12, 20, 2],\n",
              " [25, 16, 12, 20, 2, 1],\n",
              " [14, 5],\n",
              " [14, 5, 15],\n",
              " [14, 5, 15, 9],\n",
              " [14, 5, 15, 9, 5],\n",
              " [14, 5, 15, 9, 5, 4]]"
            ]
          },
          "metadata": {},
          "execution_count": 20
        }
      ],
      "source": [
        "sequences[:10]"
      ]
    },
    {
      "cell_type": "code",
      "execution_count": 21,
      "metadata": {
        "colab": {
          "base_uri": "https://localhost:8080/"
        },
        "id": "SR68pu2tpt2q",
        "outputId": "cc6256f1-9444-4ba2-a550-fb95e79aa3c2"
      },
      "outputs": [
        {
          "output_type": "execute_result",
          "data": {
            "text/plain": [
              "33"
            ]
          },
          "metadata": {},
          "execution_count": 21
        }
      ],
      "source": [
        "max_len = max(map(len, sequences))\n",
        "max_len"
      ]
    },
    {
      "cell_type": "code",
      "execution_count": 23,
      "metadata": {
        "colab": {
          "base_uri": "https://localhost:8080/"
        },
        "id": "h_1BtWO7pt2r",
        "outputId": "6ba0779a-4094-46ff-cfd7-28522d8a582d"
      },
      "outputs": [
        {
          "output_type": "execute_result",
          "data": {
            "text/plain": [
              "array([ 0,  0,  0,  0,  0,  0,  0,  0,  0,  0,  0,  0,  0,  0,  0,  0,  0,\n",
              "        0,  0,  0,  0,  0,  0,  0,  0,  0,  0,  0,  0, 25, 16, 12, 20],\n",
              "      dtype=int32)"
            ]
          },
          "metadata": {},
          "execution_count": 23
        }
      ],
      "source": [
        "padded_sequences = tf.keras.preprocessing.sequence.pad_sequences(\n",
        "    sequences,\n",
        "    maxlen=max_len,\n",
        "    padding='pre'\n",
        ")\n",
        "\n",
        "padded_sequences[2]"
      ]
    },
    {
      "cell_type": "code",
      "execution_count": 24,
      "metadata": {
        "colab": {
          "base_uri": "https://localhost:8080/"
        },
        "id": "sPlrLRpSpt2t",
        "outputId": "2020306b-ad22-449b-9c80-65b3fb792d87"
      },
      "outputs": [
        {
          "output_type": "execute_result",
          "data": {
            "text/plain": [
              "(88279, 33)"
            ]
          },
          "metadata": {},
          "execution_count": 24
        }
      ],
      "source": [
        "padded_sequences.shape"
      ]
    },
    {
      "cell_type": "markdown",
      "metadata": {
        "id": "S2lSLxK6fHnG"
      },
      "source": [
        "## Task 5: Creating Training and Validation Sets\n",
        "\n",
        "1. Creating training and validation sets"
      ]
    },
    {
      "cell_type": "code",
      "execution_count": 25,
      "metadata": {
        "id": "BE4BIeSnpt2v"
      },
      "outputs": [],
      "source": [
        "x, y = padded_sequences[:, :-1], padded_sequences[:, -1]"
      ]
    },
    {
      "cell_type": "code",
      "execution_count": 26,
      "metadata": {
        "id": "WoqnIhF2fHnH",
        "outputId": "1a3d70e1-577c-4c74-b3ba-ab0a18e1b029",
        "colab": {
          "base_uri": "https://localhost:8080/"
        }
      },
      "outputs": [
        {
          "output_type": "execute_result",
          "data": {
            "text/plain": [
              "((88279, 32), (88279,))"
            ]
          },
          "metadata": {},
          "execution_count": 26
        }
      ],
      "source": [
        "x.shape, y.shape"
      ]
    },
    {
      "cell_type": "code",
      "execution_count": 28,
      "metadata": {
        "colab": {
          "base_uri": "https://localhost:8080/"
        },
        "id": "cgqRZtqnpt2x",
        "outputId": "10e73954-75d3-46e9-aff3-d5e45401afe1"
      },
      "outputs": [
        {
          "output_type": "stream",
          "name": "stdout",
          "text": [
            "(66209, 32) (66209,)\n",
            "(22070, 32) (22070,)\n"
          ]
        }
      ],
      "source": [
        "from sklearn.model_selection import train_test_split\n",
        "\n",
        "x_train, x_test, y_train, y_test = train_test_split(x, y)\n",
        "\n",
        "print(x_train.shape, y_train.shape)\n",
        "print(x_test.shape, y_test.shape)"
      ]
    },
    {
      "cell_type": "code",
      "source": [
        "chars_num = len(char_to_index) + 1\n",
        "chars_num"
      ],
      "metadata": {
        "id": "n2eWIaH-FGBz",
        "outputId": "5f927d91-375a-4e96-9a63-0e5409a8672a",
        "colab": {
          "base_uri": "https://localhost:8080/"
        }
      },
      "execution_count": 29,
      "outputs": [
        {
          "output_type": "execute_result",
          "data": {
            "text/plain": [
              "29"
            ]
          },
          "metadata": {},
          "execution_count": 29
        }
      ]
    },
    {
      "cell_type": "markdown",
      "metadata": {
        "id": "kMAFaaTAfHnH"
      },
      "source": [
        "## Task 6: Creating the Model"
      ]
    },
    {
      "cell_type": "code",
      "execution_count": 31,
      "metadata": {
        "id": "sdSslJf7fHnI"
      },
      "outputs": [],
      "source": [
        "from tensorflow.keras.models import Sequential\n",
        "from tensorflow.keras.layers import Embedding, Conv1D, MaxPool1D, LSTM, Bidirectional, Dense"
      ]
    },
    {
      "cell_type": "code",
      "source": [
        "model = Sequential([\n",
        "    Embedding(\n",
        "        input_dim=chars_num, output_dim=8, input_length=max_len - 1\n",
        "    ),\n",
        "\n",
        "    Conv1D(filters=64, kernel_size=5, padding='causal', activation='tanh'),\n",
        "    MaxPool1D(2),\n",
        "\n",
        "    LSTM(32),\n",
        "\n",
        "    Dense(chars_num, activation='softmax')\n",
        "])"
      ],
      "metadata": {
        "id": "2UGSPC4WGFw-"
      },
      "execution_count": 32,
      "outputs": []
    },
    {
      "cell_type": "code",
      "source": [
        "model.compile(\n",
        "    loss='sparse_categorical_crossentropy',\n",
        "    optimizer='adam',\n",
        "    metrics=['accuracy']\n",
        ")\n",
        "\n",
        "model.summary()"
      ],
      "metadata": {
        "id": "dOW0a6wMJx9l",
        "outputId": "02012820-f2ab-4c51-fb33-0480430f6666",
        "colab": {
          "base_uri": "https://localhost:8080/"
        }
      },
      "execution_count": 33,
      "outputs": [
        {
          "output_type": "stream",
          "name": "stdout",
          "text": [
            "Model: \"sequential\"\n",
            "_________________________________________________________________\n",
            " Layer (type)                Output Shape              Param #   \n",
            "=================================================================\n",
            " embedding (Embedding)       (None, 32, 8)             232       \n",
            "                                                                 \n",
            " conv1d (Conv1D)             (None, 32, 64)            2624      \n",
            "                                                                 \n",
            " max_pooling1d (MaxPooling1  (None, 16, 64)            0         \n",
            " D)                                                              \n",
            "                                                                 \n",
            " lstm (LSTM)                 (None, 32)                12416     \n",
            "                                                                 \n",
            " dense (Dense)               (None, 29)                957       \n",
            "                                                                 \n",
            "=================================================================\n",
            "Total params: 16229 (63.39 KB)\n",
            "Trainable params: 16229 (63.39 KB)\n",
            "Non-trainable params: 0 (0.00 Byte)\n",
            "_________________________________________________________________\n"
          ]
        }
      ]
    },
    {
      "cell_type": "markdown",
      "metadata": {
        "id": "j7BNtWgVfHnI"
      },
      "source": [
        "## Task 7: Training the Model"
      ]
    },
    {
      "cell_type": "code",
      "execution_count": 34,
      "metadata": {
        "colab": {
          "base_uri": "https://localhost:8080/"
        },
        "id": "j0Ssl4qupt22",
        "outputId": "713b3607-61b1-482e-b81d-e6224ea58151"
      },
      "outputs": [
        {
          "output_type": "stream",
          "name": "stdout",
          "text": [
            "Epoch 1/50\n",
            "2070/2070 [==============================] - 22s 8ms/step - loss: 2.7551 - accuracy: 0.1826 - val_loss: 2.5986 - val_accuracy: 0.2219\n",
            "Epoch 2/50\n",
            "2070/2070 [==============================] - 16s 7ms/step - loss: 2.5438 - accuracy: 0.2329 - val_loss: 2.4958 - val_accuracy: 0.2477\n",
            "Epoch 3/50\n",
            "2070/2070 [==============================] - 16s 8ms/step - loss: 2.4670 - accuracy: 0.2547 - val_loss: 2.4404 - val_accuracy: 0.2619\n",
            "Epoch 4/50\n",
            "2070/2070 [==============================] - 15s 7ms/step - loss: 2.4147 - accuracy: 0.2685 - val_loss: 2.4063 - val_accuracy: 0.2715\n",
            "Epoch 5/50\n",
            "2070/2070 [==============================] - 15s 7ms/step - loss: 2.3773 - accuracy: 0.2789 - val_loss: 2.3764 - val_accuracy: 0.2776\n",
            "Epoch 6/50\n",
            "2070/2070 [==============================] - 15s 7ms/step - loss: 2.3462 - accuracy: 0.2884 - val_loss: 2.3534 - val_accuracy: 0.2852\n",
            "Epoch 7/50\n",
            "2070/2070 [==============================] - 14s 7ms/step - loss: 2.3194 - accuracy: 0.2980 - val_loss: 2.3354 - val_accuracy: 0.2952\n",
            "Epoch 8/50\n",
            "2070/2070 [==============================] - 15s 7ms/step - loss: 2.2949 - accuracy: 0.3071 - val_loss: 2.3168 - val_accuracy: 0.2981\n",
            "Epoch 9/50\n",
            "2070/2070 [==============================] - 16s 8ms/step - loss: 2.2725 - accuracy: 0.3129 - val_loss: 2.3036 - val_accuracy: 0.3035\n",
            "Epoch 10/50\n",
            "2070/2070 [==============================] - 16s 7ms/step - loss: 2.2527 - accuracy: 0.3189 - val_loss: 2.2932 - val_accuracy: 0.3093\n",
            "Epoch 11/50\n",
            "2070/2070 [==============================] - 16s 8ms/step - loss: 2.2345 - accuracy: 0.3253 - val_loss: 2.2813 - val_accuracy: 0.3074\n",
            "Epoch 12/50\n",
            "2070/2070 [==============================] - 15s 7ms/step - loss: 2.2181 - accuracy: 0.3316 - val_loss: 2.2683 - val_accuracy: 0.3180\n",
            "Epoch 13/50\n",
            "2070/2070 [==============================] - 15s 7ms/step - loss: 2.2029 - accuracy: 0.3341 - val_loss: 2.2631 - val_accuracy: 0.3173\n",
            "Epoch 14/50\n",
            "2070/2070 [==============================] - 15s 7ms/step - loss: 2.1885 - accuracy: 0.3384 - val_loss: 2.2532 - val_accuracy: 0.3184\n",
            "Epoch 15/50\n",
            "2070/2070 [==============================] - 15s 7ms/step - loss: 2.1754 - accuracy: 0.3427 - val_loss: 2.2480 - val_accuracy: 0.3179\n",
            "Epoch 16/50\n",
            "2070/2070 [==============================] - 14s 7ms/step - loss: 2.1620 - accuracy: 0.3459 - val_loss: 2.2418 - val_accuracy: 0.3260\n",
            "Epoch 17/50\n",
            "2070/2070 [==============================] - 14s 7ms/step - loss: 2.1494 - accuracy: 0.3518 - val_loss: 2.2384 - val_accuracy: 0.3251\n",
            "Epoch 18/50\n",
            "2070/2070 [==============================] - 15s 7ms/step - loss: 2.1391 - accuracy: 0.3542 - val_loss: 2.2358 - val_accuracy: 0.3260\n",
            "Epoch 19/50\n",
            "2070/2070 [==============================] - 14s 7ms/step - loss: 2.1285 - accuracy: 0.3583 - val_loss: 2.2283 - val_accuracy: 0.3311\n",
            "Epoch 20/50\n",
            "2070/2070 [==============================] - 14s 7ms/step - loss: 2.1182 - accuracy: 0.3624 - val_loss: 2.2231 - val_accuracy: 0.3363\n",
            "Epoch 21/50\n",
            "2070/2070 [==============================] - 14s 7ms/step - loss: 2.1090 - accuracy: 0.3651 - val_loss: 2.2170 - val_accuracy: 0.3324\n",
            "Epoch 22/50\n",
            "2070/2070 [==============================] - 21s 10ms/step - loss: 2.0996 - accuracy: 0.3675 - val_loss: 2.2137 - val_accuracy: 0.3389\n",
            "Epoch 23/50\n",
            "2070/2070 [==============================] - 14s 7ms/step - loss: 2.0908 - accuracy: 0.3681 - val_loss: 2.2112 - val_accuracy: 0.3367\n",
            "Epoch 24/50\n",
            "2070/2070 [==============================] - 15s 7ms/step - loss: 2.0824 - accuracy: 0.3734 - val_loss: 2.2092 - val_accuracy: 0.3398\n",
            "Epoch 25/50\n",
            "2070/2070 [==============================] - 15s 7ms/step - loss: 2.0741 - accuracy: 0.3756 - val_loss: 2.2083 - val_accuracy: 0.3382\n",
            "Epoch 26/50\n",
            "2070/2070 [==============================] - 16s 8ms/step - loss: 2.0672 - accuracy: 0.3785 - val_loss: 2.2039 - val_accuracy: 0.3440\n",
            "Epoch 27/50\n",
            "2070/2070 [==============================] - 15s 7ms/step - loss: 2.0599 - accuracy: 0.3800 - val_loss: 2.2014 - val_accuracy: 0.3430\n",
            "Epoch 28/50\n",
            "2070/2070 [==============================] - 14s 7ms/step - loss: 2.0529 - accuracy: 0.3830 - val_loss: 2.1981 - val_accuracy: 0.3426\n",
            "Epoch 29/50\n",
            "2070/2070 [==============================] - 15s 7ms/step - loss: 2.0460 - accuracy: 0.3849 - val_loss: 2.1992 - val_accuracy: 0.3440\n",
            "Epoch 30/50\n",
            "2070/2070 [==============================] - 14s 7ms/step - loss: 2.0394 - accuracy: 0.3873 - val_loss: 2.1956 - val_accuracy: 0.3475\n",
            "Epoch 31/50\n",
            "2070/2070 [==============================] - 14s 7ms/step - loss: 2.0334 - accuracy: 0.3892 - val_loss: 2.1933 - val_accuracy: 0.3467\n",
            "Epoch 32/50\n",
            "2070/2070 [==============================] - 16s 8ms/step - loss: 2.0285 - accuracy: 0.3896 - val_loss: 2.1949 - val_accuracy: 0.3457\n",
            "Epoch 33/50\n",
            "2070/2070 [==============================] - 14s 7ms/step - loss: 2.0231 - accuracy: 0.3923 - val_loss: 2.1923 - val_accuracy: 0.3485\n",
            "Epoch 34/50\n",
            "2070/2070 [==============================] - 14s 7ms/step - loss: 2.0169 - accuracy: 0.3934 - val_loss: 2.1972 - val_accuracy: 0.3490\n",
            "Epoch 35/50\n",
            "2070/2070 [==============================] - 15s 7ms/step - loss: 2.0128 - accuracy: 0.3944 - val_loss: 2.1971 - val_accuracy: 0.3486\n",
            "Epoch 36/50\n",
            "2070/2070 [==============================] - 18s 9ms/step - loss: 2.0076 - accuracy: 0.3960 - val_loss: 2.1942 - val_accuracy: 0.3479\n",
            "Epoch 37/50\n",
            "2070/2070 [==============================] - 16s 8ms/step - loss: 2.0030 - accuracy: 0.3981 - val_loss: 2.1961 - val_accuracy: 0.3485\n"
          ]
        },
        {
          "output_type": "execute_result",
          "data": {
            "text/plain": [
              "<keras.src.callbacks.History at 0x7a062e702aa0>"
            ]
          },
          "metadata": {},
          "execution_count": 34
        }
      ],
      "source": [
        "model.fit(\n",
        "    x_train, y_train,\n",
        "    validation_data=(x_test, y_test),\n",
        "    epochs=50,\n",
        "    callbacks=[\n",
        "        tf.keras.callbacks.EarlyStopping(monitor='val_loss', patience=4)\n",
        "    ]\n",
        ")"
      ]
    },
    {
      "cell_type": "markdown",
      "metadata": {
        "id": "K_f2jwkXfHnJ"
      },
      "source": [
        "## Task 8: Generate Names!"
      ]
    },
    {
      "cell_type": "code",
      "execution_count": 56,
      "metadata": {
        "id": "9f50aTRcpt24"
      },
      "outputs": [],
      "source": [
        "from os import truncate\n",
        "def generate_names(seed):\n",
        "    for _ in range(40):\n",
        "        seq = name_to_seq(seed)\n",
        "\n",
        "        padded = tf.keras.preprocessing.sequence.pad_sequences(\n",
        "            [seq], maxlen=max_len-1, padding='pre', truncating = 'pre'\n",
        "        )\n",
        "\n",
        "        pred = model.predict(padded, verbose=0).argmax(-1)\n",
        "\n",
        "        seed += index_to_char[pred[0]]\n",
        "\n",
        "        if seed[-1] == '\\t': break\n",
        "\n",
        "    print(seed)"
      ]
    },
    {
      "cell_type": "code",
      "execution_count": 57,
      "metadata": {
        "colab": {
          "base_uri": "https://localhost:8080/"
        },
        "id": "faQ0FInlpt26",
        "outputId": "c0693167-d552-4a4b-8703-399e7bf6e2c3"
      },
      "outputs": [
        {
          "output_type": "stream",
          "name": "stdout",
          "text": [
            "shaderman\t\n"
          ]
        }
      ],
      "source": [
        "generate_names('s')"
      ]
    },
    {
      "cell_type": "code",
      "source": [
        "generate_names('si')"
      ],
      "metadata": {
        "id": "ofEp6ERZO3r0",
        "outputId": "20e08984-cb6d-4f84-ce88-21c9cd15367d",
        "colab": {
          "base_uri": "https://localhost:8080/"
        }
      },
      "execution_count": 58,
      "outputs": [
        {
          "output_type": "stream",
          "name": "stdout",
          "text": [
            "silver stent\t\n"
          ]
        }
      ]
    }
  ],
  "metadata": {
    "accelerator": "GPU",
    "colab": {
      "provenance": []
    },
    "kernelspec": {
      "display_name": "Python 3",
      "language": "python",
      "name": "python3"
    },
    "language_info": {
      "codemirror_mode": {
        "name": "ipython",
        "version": 3
      },
      "file_extension": ".py",
      "mimetype": "text/x-python",
      "name": "python",
      "nbconvert_exporter": "python",
      "pygments_lexer": "ipython3",
      "version": "3.8.3"
    }
  },
  "nbformat": 4,
  "nbformat_minor": 0
}